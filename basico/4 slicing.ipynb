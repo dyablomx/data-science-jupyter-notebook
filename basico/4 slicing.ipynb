{
 "cells": [
  {
   "cell_type": "code",
   "execution_count": 4,
   "id": "ac308faa-5faa-4f76-8212-1e61f5e1687a",
   "metadata": {},
   "outputs": [],
   "source": [
    "#Stop es excluyente, omite el resultado mostrado. Por lo cual si se quiere llegar a china, hay que sumarle 1 al indice\n",
    "#nombre_lista[start:stop]\n",
    "countries = ['Unites States','India','China','Brazil']"
   ]
  },
  {
   "cell_type": "code",
   "execution_count": 3,
   "id": "8e007892-9e86-46dc-a5c7-3c1e310d609e",
   "metadata": {},
   "outputs": [
    {
     "data": {
      "text/plain": [
       "['Unites States', 'India', 'China']"
      ]
     },
     "execution_count": 3,
     "metadata": {},
     "output_type": "execute_result"
    }
   ],
   "source": [
    "countries[0:3]"
   ]
  },
  {
   "cell_type": "code",
   "execution_count": 5,
   "id": "243db775-2dca-44b5-bd2e-71226572066e",
   "metadata": {},
   "outputs": [
    {
     "data": {
      "text/plain": [
       "['India', 'China', 'Brazil']"
      ]
     },
     "execution_count": 5,
     "metadata": {},
     "output_type": "execute_result"
    }
   ],
   "source": [
    "countries[1:4]"
   ]
  },
  {
   "cell_type": "code",
   "execution_count": 6,
   "id": "e84e40cb-e00c-4246-bdec-aa78fdfad98c",
   "metadata": {},
   "outputs": [
    {
     "data": {
      "text/plain": [
       "['India', 'China', 'Brazil']"
      ]
     },
     "execution_count": 6,
     "metadata": {},
     "output_type": "execute_result"
    }
   ],
   "source": [
    "countries[1:]"
   ]
  },
  {
   "cell_type": "code",
   "execution_count": 7,
   "id": "2770a059-2265-4215-83ce-ca063799629f",
   "metadata": {},
   "outputs": [
    {
     "data": {
      "text/plain": [
       "['Unites States', 'India']"
      ]
     },
     "execution_count": 7,
     "metadata": {},
     "output_type": "execute_result"
    }
   ],
   "source": [
    "countries[:2]"
   ]
  }
 ],
 "metadata": {
  "kernelspec": {
   "display_name": "Python 3 (ipykernel)",
   "language": "python",
   "name": "python3"
  },
  "language_info": {
   "codemirror_mode": {
    "name": "ipython",
    "version": 3
   },
   "file_extension": ".py",
   "mimetype": "text/x-python",
   "name": "python",
   "nbconvert_exporter": "python",
   "pygments_lexer": "ipython3",
   "version": "3.11.3"
  }
 },
 "nbformat": 4,
 "nbformat_minor": 5
}
