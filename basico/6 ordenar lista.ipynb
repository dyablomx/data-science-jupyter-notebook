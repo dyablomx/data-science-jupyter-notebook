{
 "cells": [
  {
   "cell_type": "code",
   "execution_count": 1,
   "id": "e839e43b-df4d-4281-875a-81fca7a6aafb",
   "metadata": {},
   "outputs": [],
   "source": [
    "numbers = [0,1,5,2,9,3]"
   ]
  },
  {
   "cell_type": "code",
   "execution_count": 2,
   "id": "097514e7-92ea-4acf-9fd3-fc3f1c07f302",
   "metadata": {},
   "outputs": [
    {
     "data": {
      "text/plain": [
       "[0, 1, 5, 2, 9, 3]"
      ]
     },
     "execution_count": 2,
     "metadata": {},
     "output_type": "execute_result"
    }
   ],
   "source": [
    "numbers"
   ]
  },
  {
   "cell_type": "code",
   "execution_count": 6,
   "id": "41a7c198-4dae-4942-b62f-bc8d1e979649",
   "metadata": {},
   "outputs": [],
   "source": [
    "#ordena de menor a mayor\n",
    "numbers.sort()"
   ]
  },
  {
   "cell_type": "code",
   "execution_count": 5,
   "id": "4e2bf483-b36b-45f9-9539-426d5f35dba6",
   "metadata": {},
   "outputs": [
    {
     "data": {
      "text/plain": [
       "[0, 1, 2, 3, 5, 9]"
      ]
     },
     "execution_count": 5,
     "metadata": {},
     "output_type": "execute_result"
    }
   ],
   "source": [
    "numbers"
   ]
  },
  {
   "cell_type": "code",
   "execution_count": 8,
   "id": "3be8b51d-bbd0-4f73-9cc4-985a29be7c74",
   "metadata": {},
   "outputs": [],
   "source": [
    "#ordena de mayor a menor\n",
    "numbers.sort(reverse=True)"
   ]
  },
  {
   "cell_type": "code",
   "execution_count": 9,
   "id": "6d183b3e-192f-487f-97a1-5781c3bcd8a2",
   "metadata": {},
   "outputs": [
    {
     "data": {
      "text/plain": [
       "[9, 5, 3, 2, 1, 0]"
      ]
     },
     "execution_count": 9,
     "metadata": {},
     "output_type": "execute_result"
    }
   ],
   "source": [
    "numbers"
   ]
  },
  {
   "cell_type": "code",
   "execution_count": 13,
   "id": "5fbe430f-7320-45b6-98b0-acad5fee8850",
   "metadata": {},
   "outputs": [],
   "source": [
    "#reasignacion del valor del index 0\n",
    "numbers[0] = 1000"
   ]
  },
  {
   "cell_type": "code",
   "execution_count": 12,
   "id": "9b655c60-fa9c-44ba-8b8d-10dc6218011a",
   "metadata": {},
   "outputs": [
    {
     "data": {
      "text/plain": [
       "[1000, 5, 3, 2, 1, 0]"
      ]
     },
     "execution_count": 12,
     "metadata": {},
     "output_type": "execute_result"
    }
   ],
   "source": [
    "numbers"
   ]
  }
 ],
 "metadata": {
  "kernelspec": {
   "display_name": "Python 3 (ipykernel)",
   "language": "python",
   "name": "python3"
  },
  "language_info": {
   "codemirror_mode": {
    "name": "ipython",
    "version": 3
   },
   "file_extension": ".py",
   "mimetype": "text/x-python",
   "name": "python",
   "nbconvert_exporter": "python",
   "pygments_lexer": "ipython3",
   "version": "3.11.3"
  }
 },
 "nbformat": 4,
 "nbformat_minor": 5
}
