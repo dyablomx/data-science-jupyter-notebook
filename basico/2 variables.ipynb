{
 "cells": [
  {
   "cell_type": "code",
   "execution_count": 1,
   "id": "dba6e5c5-1b55-41d9-b1c7-f20b7a55f576",
   "metadata": {},
   "outputs": [],
   "source": [
    "message_1 = \"Estoy aprendiendo python\""
   ]
  },
  {
   "cell_type": "code",
   "execution_count": 2,
   "id": "2a0661b4-555d-47d4-a74a-c8f64592af2d",
   "metadata": {},
   "outputs": [
    {
     "data": {
      "text/plain": [
       "'Estoy aprendiendo python'"
      ]
     },
     "execution_count": 2,
     "metadata": {},
     "output_type": "execute_result"
    }
   ],
   "source": [
    "message_1"
   ]
  },
  {
   "cell_type": "code",
   "execution_count": 9,
   "id": "72ef5913-fb32-4930-81d9-8778e9db20cd",
   "metadata": {},
   "outputs": [],
   "source": [
    "message_2 = \"y es divertido\""
   ]
  },
  {
   "cell_type": "code",
   "execution_count": 4,
   "id": "dc0eda03-2293-4e49-9a2b-abe73a16fc1e",
   "metadata": {},
   "outputs": [
    {
     "data": {
      "text/plain": [
       "'y es divertido'"
      ]
     },
     "execution_count": 4,
     "metadata": {},
     "output_type": "execute_result"
    }
   ],
   "source": [
    "message_2"
   ]
  },
  {
   "cell_type": "code",
   "execution_count": 12,
   "id": "dc62d5d7-5753-4fbd-8291-c315fb18680b",
   "metadata": {},
   "outputs": [
    {
     "data": {
      "text/plain": [
       "'Estoy aprendiendo pythony es divertido'"
      ]
     },
     "execution_count": 12,
     "metadata": {},
     "output_type": "execute_result"
    }
   ],
   "source": [
    "message_1 + message_2"
   ]
  },
  {
   "cell_type": "code",
   "execution_count": 13,
   "id": "c17b1c81-a68e-4333-9948-ec8650cb4ff1",
   "metadata": {},
   "outputs": [
    {
     "data": {
      "text/plain": [
       "'Estoy aprendiendo python y es divertido'"
      ]
     },
     "execution_count": 13,
     "metadata": {},
     "output_type": "execute_result"
    }
   ],
   "source": [
    "message_1 + \" \" + message_2"
   ]
  },
  {
   "cell_type": "code",
   "execution_count": 17,
   "id": "770187e2-1e86-4abb-82eb-f295a96d72ad",
   "metadata": {},
   "outputs": [
    {
     "data": {
      "text/plain": [
       "'Estoy aprendiendo python'"
      ]
     },
     "execution_count": 17,
     "metadata": {},
     "output_type": "execute_result"
    }
   ],
   "source": [
    "f'{message_1}'"
   ]
  },
  {
   "cell_type": "code",
   "execution_count": 18,
   "id": "35d9cfa3-1a58-432f-bab6-76026408d8fc",
   "metadata": {},
   "outputs": [
    {
     "data": {
      "text/plain": [
       "'Estoy aprendiendo python a b c'"
      ]
     },
     "execution_count": 18,
     "metadata": {},
     "output_type": "execute_result"
    }
   ],
   "source": [
    "f'{message_1} a b c'"
   ]
  },
  {
   "cell_type": "code",
   "execution_count": 19,
   "id": "2874c4c3-5ca0-4539-a043-9430ff79db34",
   "metadata": {},
   "outputs": [
    {
     "data": {
      "text/plain": [
       "'Estoy aprendiendo python y es divertido'"
      ]
     },
     "execution_count": 19,
     "metadata": {},
     "output_type": "execute_result"
    }
   ],
   "source": [
    "f'{message_1} {message_2}'"
   ]
  },
  {
   "cell_type": "code",
   "execution_count": 20,
   "id": "af25eeb1-ac92-46ef-a276-b794c383ac4e",
   "metadata": {},
   "outputs": [],
   "source": [
    "messages = f'{message_1} {message_2}'"
   ]
  },
  {
   "cell_type": "code",
   "execution_count": 21,
   "id": "fe382514-a0eb-4186-83bf-2497f4f9844e",
   "metadata": {},
   "outputs": [
    {
     "data": {
      "text/plain": [
       "'Estoy aprendiendo python y es divertido'"
      ]
     },
     "execution_count": 21,
     "metadata": {},
     "output_type": "execute_result"
    }
   ],
   "source": [
    "messages"
   ]
  }
 ],
 "metadata": {
  "kernelspec": {
   "display_name": "Python 3 (ipykernel)",
   "language": "python",
   "name": "python3"
  },
  "language_info": {
   "codemirror_mode": {
    "name": "ipython",
    "version": 3
   },
   "file_extension": ".py",
   "mimetype": "text/x-python",
   "name": "python",
   "nbconvert_exporter": "python",
   "pygments_lexer": "ipython3",
   "version": "3.11.3"
  }
 },
 "nbformat": 4,
 "nbformat_minor": 5
}
