{
 "cells": [
  {
   "cell_type": "markdown",
   "id": "a60edbd7-f9ea-47c4-bc4a-7c9b47c03515",
   "metadata": {},
   "source": [
    "# FOR"
   ]
  },
  {
   "cell_type": "code",
   "execution_count": 1,
   "id": "975bfcd6-38b8-4eac-852c-16377de4f84f",
   "metadata": {},
   "outputs": [],
   "source": [
    "countries =['United States','India','China','Brazil']"
   ]
  },
  {
   "cell_type": "code",
   "execution_count": 2,
   "id": "f94045c5-b653-4077-9a7c-70c7f35ec7ca",
   "metadata": {},
   "outputs": [
    {
     "name": "stdout",
     "output_type": "stream",
     "text": [
      "United States\n",
      "India\n",
      "China\n",
      "Brazil\n"
     ]
    }
   ],
   "source": [
    "for pais in countries:\n",
    "    print(pais)"
   ]
  },
  {
   "cell_type": "code",
   "execution_count": 3,
   "id": "8f3db52e-9e5b-4990-8290-254af42d7a57",
   "metadata": {},
   "outputs": [
    {
     "name": "stdout",
     "output_type": "stream",
     "text": [
      "United States\n"
     ]
    }
   ],
   "source": [
    "for pais in countries:\n",
    "    if pais == \"United States\":\n",
    "        print(pais)"
   ]
  },
  {
   "cell_type": "code",
   "execution_count": 13,
   "id": "2ba78849-9b1c-4b70-8229-d1b659d89bb1",
   "metadata": {},
   "outputs": [
    {
     "name": "stdout",
     "output_type": "stream",
     "text": [
      "0\n",
      "United States\n",
      "1\n",
      "India\n",
      "2\n",
      "China\n",
      "3\n",
      "Brazil\n"
     ]
    }
   ],
   "source": [
    "for numero, pais in enumerate(countries):\n",
    "    print(numero)\n",
    "    print(pais)"
   ]
  },
  {
   "cell_type": "code",
   "execution_count": 14,
   "id": "80ac8cc2-1b42-4a4b-91cc-dba1bcda25a9",
   "metadata": {},
   "outputs": [],
   "source": [
    "my_data = {'Nombre':'Oscar','Edad':30}"
   ]
  },
  {
   "cell_type": "code",
   "execution_count": 15,
   "id": "f65ca95e-fc0d-4435-9de3-478062b5293d",
   "metadata": {},
   "outputs": [
    {
     "data": {
      "text/plain": [
       "{'Nombre': 'Oscar', 'Edad': 30}"
      ]
     },
     "execution_count": 15,
     "metadata": {},
     "output_type": "execute_result"
    }
   ],
   "source": [
    "my_data"
   ]
  },
  {
   "cell_type": "code",
   "execution_count": 16,
   "id": "76f8ab0e-0420-4b9e-a91f-1bd3f0c48820",
   "metadata": {},
   "outputs": [
    {
     "data": {
      "text/plain": [
       "dict_items([('Nombre', 'Oscar'), ('Edad', 30)])"
      ]
     },
     "execution_count": 16,
     "metadata": {},
     "output_type": "execute_result"
    }
   ],
   "source": [
    "my_data.items()"
   ]
  },
  {
   "cell_type": "code",
   "execution_count": 17,
   "id": "165436f1-282a-4b5d-96f3-dc60d93917a3",
   "metadata": {},
   "outputs": [
    {
     "name": "stdout",
     "output_type": "stream",
     "text": [
      "Nombre\n",
      "Oscar\n",
      "Edad\n",
      "30\n"
     ]
    }
   ],
   "source": [
    "for key, value in my_data.items():\n",
    "    print(key)\n",
    "    print(value)"
   ]
  }
 ],
 "metadata": {
  "kernelspec": {
   "display_name": "Python 3 (ipykernel)",
   "language": "python",
   "name": "python3"
  },
  "language_info": {
   "codemirror_mode": {
    "name": "ipython",
    "version": 3
   },
   "file_extension": ".py",
   "mimetype": "text/x-python",
   "name": "python",
   "nbconvert_exporter": "python",
   "pygments_lexer": "ipython3",
   "version": "3.11.3"
  }
 },
 "nbformat": 4,
 "nbformat_minor": 5
}
