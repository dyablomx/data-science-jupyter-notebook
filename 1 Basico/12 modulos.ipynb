{
 "cells": [
  {
   "cell_type": "markdown",
   "id": "ca6dd9f1-09e2-43eb-9b5a-6ef22f1dd866",
   "metadata": {},
   "source": [
    "# Modulos"
   ]
  },
  {
   "cell_type": "code",
   "execution_count": null,
   "id": "32a68858-94a3-4bb8-8024-da46d7a17a55",
   "metadata": {},
   "outputs": [],
   "source": [
    "import"
   ]
  },
  {
   "cell_type": "markdown",
   "id": "41469630-5a75-4381-8696-a61ccc72c7b7",
   "metadata": {},
   "source": [
    "## Modulo OS"
   ]
  },
  {
   "cell_type": "code",
   "execution_count": 3,
   "id": "d1f13def-4c8c-4b13-adac-26bf228631dc",
   "metadata": {},
   "outputs": [],
   "source": [
    "import os"
   ]
  },
  {
   "cell_type": "code",
   "execution_count": 4,
   "id": "2c9f09cf-2d6e-45fb-b250-745c387a1203",
   "metadata": {},
   "outputs": [
    {
     "data": {
      "text/plain": [
       "'C:\\\\Users\\\\oscar\\\\Downloads\\\\curso_python_jupyter'"
      ]
     },
     "execution_count": 4,
     "metadata": {},
     "output_type": "execute_result"
    }
   ],
   "source": [
    "os.getcwd()"
   ]
  },
  {
   "cell_type": "code",
   "execution_count": 7,
   "id": "25d7d7b4-d7ad-41a3-9533-2b3db5405b92",
   "metadata": {},
   "outputs": [
    {
     "data": {
      "text/plain": [
       "['.ipynb_checkpoints',\n",
       " '1 tiposDeDato.ipynb',\n",
       " '10 For.ipynb',\n",
       " '11 funciones.ipynb',\n",
       " '12 modulos.ipynb',\n",
       " '2 variables.ipynb',\n",
       " '3 listas.ipynb',\n",
       " '4 slicing.ipynb',\n",
       " '5 operaciones y metodos.ipynb',\n",
       " '6 ordenar lista.ipynb',\n",
       " '7 copiar lista.ipynb',\n",
       " '8 diccionarios.ipynb',\n",
       " '9 if.ipynb',\n",
       " 'Dataset',\n",
       " 'Python for Excel Users-20231010T160422Z-001.zip',\n",
       " 'python-course-for-excel-users-main.zip']"
      ]
     },
     "execution_count": 7,
     "metadata": {},
     "output_type": "execute_result"
    }
   ],
   "source": [
    "os.listdir()"
   ]
  },
  {
   "cell_type": "code",
   "execution_count": 6,
   "id": "fde1601c-497e-45ca-aa8f-3dfaac718eb2",
   "metadata": {},
   "outputs": [],
   "source": [
    "os.makedirs(\"Dataset\")"
   ]
  }
 ],
 "metadata": {
  "kernelspec": {
   "display_name": "Python 3 (ipykernel)",
   "language": "python",
   "name": "python3"
  },
  "language_info": {
   "codemirror_mode": {
    "name": "ipython",
    "version": 3
   },
   "file_extension": ".py",
   "mimetype": "text/x-python",
   "name": "python",
   "nbconvert_exporter": "python",
   "pygments_lexer": "ipython3",
   "version": "3.11.3"
  }
 },
 "nbformat": 4,
 "nbformat_minor": 5
}
