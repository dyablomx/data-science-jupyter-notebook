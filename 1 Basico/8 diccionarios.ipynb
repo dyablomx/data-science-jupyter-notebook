{
 "cells": [
  {
   "cell_type": "code",
   "execution_count": null,
   "id": "949d27bc-6ecb-4ed4-99cc-71926810741f",
   "metadata": {},
   "outputs": [],
   "source": [
    "mi_diccionario = {'key1':'value1','key2':'value2'}"
   ]
  },
  {
   "cell_type": "code",
   "execution_count": 1,
   "id": "4c339964-8619-4867-bc08-b7f3bac39c68",
   "metadata": {},
   "outputs": [],
   "source": [
    "my_data = {'nombre':'oscar','edad':30}"
   ]
  },
  {
   "cell_type": "code",
   "execution_count": 2,
   "id": "1adbbc63-60d2-4739-b2cd-69612bf4ff2e",
   "metadata": {},
   "outputs": [
    {
     "data": {
      "text/plain": [
       "{'nombre': 'oscar', 'edad': 30}"
      ]
     },
     "execution_count": 2,
     "metadata": {},
     "output_type": "execute_result"
    }
   ],
   "source": [
    "my_data"
   ]
  },
  {
   "cell_type": "code",
   "execution_count": 3,
   "id": "5946cdd7-9f9f-4045-b527-8538bcbbf189",
   "metadata": {},
   "outputs": [
    {
     "data": {
      "text/plain": [
       "'oscar'"
      ]
     },
     "execution_count": 3,
     "metadata": {},
     "output_type": "execute_result"
    }
   ],
   "source": [
    "my_data[\"nombre\"]"
   ]
  },
  {
   "cell_type": "code",
   "execution_count": 4,
   "id": "1c5def15-664b-4a80-91f1-cab75a161b35",
   "metadata": {},
   "outputs": [
    {
     "data": {
      "text/plain": [
       "dict_keys(['nombre', 'edad'])"
      ]
     },
     "execution_count": 4,
     "metadata": {},
     "output_type": "execute_result"
    }
   ],
   "source": [
    "my_data.keys()"
   ]
  },
  {
   "cell_type": "code",
   "execution_count": 5,
   "id": "67221d63-0b86-4dac-887e-74e6c3415a61",
   "metadata": {},
   "outputs": [
    {
     "data": {
      "text/plain": [
       "dict_values(['oscar', 30])"
      ]
     },
     "execution_count": 5,
     "metadata": {},
     "output_type": "execute_result"
    }
   ],
   "source": [
    "my_data.values()"
   ]
  },
  {
   "cell_type": "code",
   "execution_count": 6,
   "id": "7960a165-fdf6-43e7-8724-87f5d61c20b1",
   "metadata": {},
   "outputs": [
    {
     "data": {
      "text/plain": [
       "dict_items([('nombre', 'oscar'), ('edad', 30)])"
      ]
     },
     "execution_count": 6,
     "metadata": {},
     "output_type": "execute_result"
    }
   ],
   "source": [
    "my_data.items()"
   ]
  },
  {
   "cell_type": "markdown",
   "id": "ea48e5ae-7019-419f-880d-165e4e63db5f",
   "metadata": {},
   "source": [
    "Actualizar elementos"
   ]
  },
  {
   "cell_type": "code",
   "execution_count": 7,
   "id": "e65d2a57-45ae-40e0-9c30-6f6855170c65",
   "metadata": {},
   "outputs": [],
   "source": [
    "my_data[\"estatura\"] = 1.8"
   ]
  },
  {
   "cell_type": "code",
   "execution_count": 8,
   "id": "b17068cd-e7c0-45a5-961b-947313f9167d",
   "metadata": {},
   "outputs": [
    {
     "data": {
      "text/plain": [
       "{'nombre': 'oscar', 'edad': 30, 'estatura': 1.8}"
      ]
     },
     "execution_count": 8,
     "metadata": {},
     "output_type": "execute_result"
    }
   ],
   "source": [
    "my_data"
   ]
  },
  {
   "cell_type": "code",
   "execution_count": 13,
   "id": "f367162c-f50f-499c-aa43-ee48a5bf49b5",
   "metadata": {},
   "outputs": [],
   "source": [
    "my_data.update({\"estatura\":1.8, 'lenguages':['ingles','español']})"
   ]
  },
  {
   "cell_type": "code",
   "execution_count": 14,
   "id": "72d58045-b4e7-4c82-803d-4761a0832679",
   "metadata": {},
   "outputs": [
    {
     "data": {
      "text/plain": [
       "{'nombre': 'oscar',\n",
       " 'edad': 30,\n",
       " 'estatura': 1.8,\n",
       " 'lenguages': ['ingles', 'español']}"
      ]
     },
     "execution_count": 14,
     "metadata": {},
     "output_type": "execute_result"
    }
   ],
   "source": [
    "my_data"
   ]
  },
  {
   "cell_type": "markdown",
   "id": "4bd99e2a-3827-4f41-8f34-6628301b9bdb",
   "metadata": {},
   "source": [
    "copiar un diccionario"
   ]
  },
  {
   "cell_type": "code",
   "execution_count": 11,
   "id": "b7c5f226-94c4-4f23-ba06-c32ff1a35493",
   "metadata": {},
   "outputs": [],
   "source": [
    "nuevo_dict = my_data.copy()"
   ]
  },
  {
   "cell_type": "code",
   "execution_count": 15,
   "id": "acf3fa8f-d702-4ddb-bf93-71efe95ff9af",
   "metadata": {},
   "outputs": [
    {
     "data": {
      "text/plain": [
       "{'nombre': 'oscar',\n",
       " 'edad': 30,\n",
       " 'estatura': 1.78,\n",
       " 'lenguages': ['ingles', 'español']}"
      ]
     },
     "execution_count": 15,
     "metadata": {},
     "output_type": "execute_result"
    }
   ],
   "source": [
    "nuevo_dict"
   ]
  },
  {
   "cell_type": "markdown",
   "id": "99380cd3-8707-4130-af3f-8972c18a010d",
   "metadata": {},
   "source": [
    "Eliminar Elementos"
   ]
  },
  {
   "cell_type": "code",
   "execution_count": 16,
   "id": "97ca25b5-269b-4d8b-b46f-7cf8d97477aa",
   "metadata": {},
   "outputs": [
    {
     "data": {
      "text/plain": [
       "{'nombre': 'oscar',\n",
       " 'edad': 30,\n",
       " 'estatura': 1.8,\n",
       " 'lenguages': ['ingles', 'español']}"
      ]
     },
     "execution_count": 16,
     "metadata": {},
     "output_type": "execute_result"
    }
   ],
   "source": [
    "my_data"
   ]
  },
  {
   "cell_type": "code",
   "execution_count": 17,
   "id": "54016fd2-6dda-44bf-b465-4138dbf08ee5",
   "metadata": {},
   "outputs": [
    {
     "data": {
      "text/plain": [
       "1.8"
      ]
     },
     "execution_count": 17,
     "metadata": {},
     "output_type": "execute_result"
    }
   ],
   "source": [
    "my_data.pop('estatura')"
   ]
  },
  {
   "cell_type": "code",
   "execution_count": 18,
   "id": "77bd7dec-dce4-4d31-8610-f601bbc916db",
   "metadata": {},
   "outputs": [
    {
     "data": {
      "text/plain": [
       "{'nombre': 'oscar', 'edad': 30, 'lenguages': ['ingles', 'español']}"
      ]
     },
     "execution_count": 18,
     "metadata": {},
     "output_type": "execute_result"
    }
   ],
   "source": [
    "my_data"
   ]
  },
  {
   "cell_type": "code",
   "execution_count": 19,
   "id": "a331e003-aaed-49b6-a4ef-28fa739afb09",
   "metadata": {},
   "outputs": [],
   "source": [
    "del my_data['lenguages']"
   ]
  },
  {
   "cell_type": "code",
   "execution_count": 20,
   "id": "db9b3a31-2a26-4d59-bd97-f169c3a661fb",
   "metadata": {},
   "outputs": [
    {
     "data": {
      "text/plain": [
       "{'nombre': 'oscar', 'edad': 30}"
      ]
     },
     "execution_count": 20,
     "metadata": {},
     "output_type": "execute_result"
    }
   ],
   "source": [
    "my_data"
   ]
  },
  {
   "cell_type": "code",
   "execution_count": 21,
   "id": "5eddc986-7c3b-4422-9dbd-bbcf445ae7e3",
   "metadata": {},
   "outputs": [],
   "source": [
    "my_data.clear()"
   ]
  },
  {
   "cell_type": "code",
   "execution_count": 22,
   "id": "7146437a-6192-4c81-8ccf-9d9badd71514",
   "metadata": {},
   "outputs": [
    {
     "data": {
      "text/plain": [
       "{}"
      ]
     },
     "execution_count": 22,
     "metadata": {},
     "output_type": "execute_result"
    }
   ],
   "source": [
    "my_data"
   ]
  }
 ],
 "metadata": {
  "kernelspec": {
   "display_name": "Python 3 (ipykernel)",
   "language": "python",
   "name": "python3"
  },
  "language_info": {
   "codemirror_mode": {
    "name": "ipython",
    "version": 3
   },
   "file_extension": ".py",
   "mimetype": "text/x-python",
   "name": "python",
   "nbconvert_exporter": "python",
   "pygments_lexer": "ipython3",
   "version": "3.11.3"
  }
 },
 "nbformat": 4,
 "nbformat_minor": 5
}
