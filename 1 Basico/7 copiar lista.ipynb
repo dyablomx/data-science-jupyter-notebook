{
 "cells": [
  {
   "cell_type": "code",
   "execution_count": 10,
   "id": "fa341eae-8904-458a-b4f6-3b0ac2d85061",
   "metadata": {},
   "outputs": [],
   "source": [
    "countries.append(\"Argentina\")"
   ]
  },
  {
   "cell_type": "code",
   "execution_count": 11,
   "id": "210b09be-6655-4bec-92b6-0ffba9375c75",
   "metadata": {},
   "outputs": [
    {
     "data": {
      "text/plain": [
       "['India', 'China', 'Brazil', 'Argentina']"
      ]
     },
     "execution_count": 11,
     "metadata": {},
     "output_type": "execute_result"
    }
   ],
   "source": [
    "countries"
   ]
  },
  {
   "cell_type": "code",
   "execution_count": 14,
   "id": "e1206d49-5702-48c0-aff4-3113df8cba55",
   "metadata": {},
   "outputs": [],
   "source": [
    "#Evitar mala practica al copiar de esta forma pues se altera la lista original y con el metodo copy se crea una copia independiente\n",
    "nueva_lista = countries"
   ]
  },
  {
   "cell_type": "code",
   "execution_count": 15,
   "id": "97ad73a6-0bb1-4c0f-ae48-02ab7f12cf74",
   "metadata": {},
   "outputs": [
    {
     "data": {
      "text/plain": [
       "['India', 'China', 'Brazil', 'Argentina']"
      ]
     },
     "execution_count": 15,
     "metadata": {},
     "output_type": "execute_result"
    }
   ],
   "source": [
    "nueva_lista"
   ]
  },
  {
   "cell_type": "code",
   "execution_count": 1,
   "id": "02b6cbd9-8555-41d7-b9e4-62fb28dd0d24",
   "metadata": {},
   "outputs": [],
   "source": [
    "countries = ['India','China','Brazil']"
   ]
  },
  {
   "cell_type": "code",
   "execution_count": 2,
   "id": "fe8bea41-5429-449a-b784-04196d30b202",
   "metadata": {},
   "outputs": [],
   "source": [
    "otra_lista = countries.copy()"
   ]
  },
  {
   "cell_type": "code",
   "execution_count": 13,
   "id": "2ec301c6-2998-4aab-b664-6eb051b7fb80",
   "metadata": {},
   "outputs": [
    {
     "data": {
      "text/plain": [
       "['India', 'China', 'Brazil']"
      ]
     },
     "execution_count": 13,
     "metadata": {},
     "output_type": "execute_result"
    }
   ],
   "source": [
    "otra_lista"
   ]
  },
  {
   "cell_type": "code",
   "execution_count": 5,
   "id": "6bc2b865-0587-4bf6-b315-3b167bec25ad",
   "metadata": {},
   "outputs": [],
   "source": [
    "otra_lista_2 = countries[:]"
   ]
  },
  {
   "cell_type": "code",
   "execution_count": 6,
   "id": "1352399a-8e20-44f0-b69f-49617fac03d8",
   "metadata": {},
   "outputs": [
    {
     "data": {
      "text/plain": [
       "['India', 'China', 'Brazil']"
      ]
     },
     "execution_count": 6,
     "metadata": {},
     "output_type": "execute_result"
    }
   ],
   "source": [
    "otra_lista_2"
   ]
  }
 ],
 "metadata": {
  "kernelspec": {
   "display_name": "Python 3 (ipykernel)",
   "language": "python",
   "name": "python3"
  },
  "language_info": {
   "codemirror_mode": {
    "name": "ipython",
    "version": 3
   },
   "file_extension": ".py",
   "mimetype": "text/x-python",
   "name": "python",
   "nbconvert_exporter": "python",
   "pygments_lexer": "ipython3",
   "version": "3.11.3"
  }
 },
 "nbformat": 4,
 "nbformat_minor": 5
}
