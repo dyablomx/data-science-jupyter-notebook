{
 "cells": [
  {
   "cell_type": "code",
   "execution_count": 1,
   "id": "8979c82e-21cd-4324-b4b6-23c9ad9e721b",
   "metadata": {},
   "outputs": [],
   "source": [
    "countries = ['United States','India','China','Brazil']"
   ]
  },
  {
   "cell_type": "code",
   "execution_count": 4,
   "id": "cf874f1e-8178-4e4c-9396-6c00a616bb5e",
   "metadata": {},
   "outputs": [],
   "source": [
    "#añade elemento al final por default\n",
    "countries.append(\"Canada\")"
   ]
  },
  {
   "cell_type": "code",
   "execution_count": 3,
   "id": "5face406-a836-4827-98d2-a5b68f878d2d",
   "metadata": {},
   "outputs": [
    {
     "data": {
      "text/plain": [
       "['United States', 'India', 'China', 'Brazil', 'Canada']"
      ]
     },
     "execution_count": 3,
     "metadata": {},
     "output_type": "execute_result"
    }
   ],
   "source": [
    "countries"
   ]
  },
  {
   "cell_type": "code",
   "execution_count": 16,
   "id": "badb168c-4b9b-4067-9917-71432e75dc23",
   "metadata": {},
   "outputs": [],
   "source": [
    "countries.insert(0,\"Argentina\")\n",
    "#countries.pop(0) => elimina el indice 0"
   ]
  },
  {
   "cell_type": "code",
   "execution_count": 17,
   "id": "fc92414c-28b0-4019-bc3a-863b9d782254",
   "metadata": {},
   "outputs": [
    {
     "data": {
      "text/plain": [
       "['Argentina', 'United States', 'India', 'China', 'Brazil', 'Canada', 'Canada']"
      ]
     },
     "execution_count": 17,
     "metadata": {},
     "output_type": "execute_result"
    }
   ],
   "source": [
    "countries"
   ]
  },
  {
   "cell_type": "code",
   "execution_count": 20,
   "id": "0e5c695c-ce1b-43ab-9e95-50a7b6ba09f2",
   "metadata": {},
   "outputs": [
    {
     "data": {
      "text/plain": [
       "'Canada'"
      ]
     },
     "execution_count": 20,
     "metadata": {},
     "output_type": "execute_result"
    }
   ],
   "source": [
    "countries.pop(6)"
   ]
  },
  {
   "cell_type": "code",
   "execution_count": 18,
   "id": "87350daf-f172-4805-9592-5c973a5ee01a",
   "metadata": {},
   "outputs": [],
   "source": [
    "countries_2 = ['UK','Alemania','Australia']"
   ]
  },
  {
   "cell_type": "code",
   "execution_count": 21,
   "id": "72be8e6d-72a3-45da-8ef4-4b8b1f06ab18",
   "metadata": {},
   "outputs": [
    {
     "data": {
      "text/plain": [
       "['Argentina',\n",
       " 'United States',\n",
       " 'India',\n",
       " 'China',\n",
       " 'Brazil',\n",
       " 'Canada',\n",
       " 'UK',\n",
       " 'Alemania',\n",
       " 'Australia']"
      ]
     },
     "execution_count": 21,
     "metadata": {},
     "output_type": "execute_result"
    }
   ],
   "source": [
    "countries + countries_2"
   ]
  },
  {
   "cell_type": "code",
   "execution_count": 24,
   "id": "df2d4cdc-32d4-4fef-bd36-61f312b55c41",
   "metadata": {},
   "outputs": [],
   "source": [
    "#listas anidadas\n",
    "nueva_lista = [countries, countries_2]"
   ]
  },
  {
   "cell_type": "code",
   "execution_count": 23,
   "id": "e961ba52-69b5-40c9-bbbf-e6fa9de7e3fc",
   "metadata": {},
   "outputs": [
    {
     "data": {
      "text/plain": [
       "[['Argentina', 'United States', 'India', 'China', 'Brazil', 'Canada'],\n",
       " ['UK', 'Alemania', 'Australia']]"
      ]
     },
     "execution_count": 23,
     "metadata": {},
     "output_type": "execute_result"
    }
   ],
   "source": [
    "nueva_lista"
   ]
  },
  {
   "cell_type": "code",
   "execution_count": 32,
   "id": "228f3e17-3a7c-40e5-8ee6-b93ad4fbc4d7",
   "metadata": {},
   "outputs": [
    {
     "data": {
      "text/plain": [
       "['Argentina', 'United States', 'India', 'China', 'Brazil', 'Canada']"
      ]
     },
     "execution_count": 32,
     "metadata": {},
     "output_type": "execute_result"
    }
   ],
   "source": [
    "countries"
   ]
  },
  {
   "cell_type": "code",
   "execution_count": 33,
   "id": "1caef97e-7d5b-4c9c-9184-b7ddfcfd0c88",
   "metadata": {},
   "outputs": [],
   "source": [
    "#elminar elemento X\n",
    "countries.remove('Canada')"
   ]
  },
  {
   "cell_type": "code",
   "execution_count": 34,
   "id": "72cf4590-0c31-42c3-a619-391e0fbefab7",
   "metadata": {},
   "outputs": [
    {
     "data": {
      "text/plain": [
       "['Argentina', 'United States', 'India', 'China', 'Brazil']"
      ]
     },
     "execution_count": 34,
     "metadata": {},
     "output_type": "execute_result"
    }
   ],
   "source": [
    "countries"
   ]
  },
  {
   "cell_type": "code",
   "execution_count": 35,
   "id": "7fb2896c-b23d-4b32-b9c7-c168c4f75449",
   "metadata": {},
   "outputs": [
    {
     "data": {
      "text/plain": [
       "'Argentina'"
      ]
     },
     "execution_count": 35,
     "metadata": {},
     "output_type": "execute_result"
    }
   ],
   "source": [
    "#se elimina por medio de index\n",
    "countries.pop(0)"
   ]
  },
  {
   "cell_type": "code",
   "execution_count": 36,
   "id": "b9b38b27-7431-499a-8dd9-184c7c7da108",
   "metadata": {},
   "outputs": [
    {
     "data": {
      "text/plain": [
       "['United States', 'India', 'China', 'Brazil']"
      ]
     },
     "execution_count": 36,
     "metadata": {},
     "output_type": "execute_result"
    }
   ],
   "source": [
    "countries"
   ]
  },
  {
   "cell_type": "code",
   "execution_count": 37,
   "id": "8caa93a9-d8ba-4f6d-a992-5973838b3cb6",
   "metadata": {},
   "outputs": [],
   "source": [
    "#funcion del\n",
    "del countries[0]"
   ]
  },
  {
   "cell_type": "code",
   "execution_count": 38,
   "id": "89f64319-9eda-451b-a90c-2382974c0af4",
   "metadata": {},
   "outputs": [
    {
     "data": {
      "text/plain": [
       "['India', 'China', 'Brazil']"
      ]
     },
     "execution_count": 38,
     "metadata": {},
     "output_type": "execute_result"
    }
   ],
   "source": [
    "countries"
   ]
  }
 ],
 "metadata": {
  "kernelspec": {
   "display_name": "Python 3 (ipykernel)",
   "language": "python",
   "name": "python3"
  },
  "language_info": {
   "codemirror_mode": {
    "name": "ipython",
    "version": 3
   },
   "file_extension": ".py",
   "mimetype": "text/x-python",
   "name": "python",
   "nbconvert_exporter": "python",
   "pygments_lexer": "ipython3",
   "version": "3.11.3"
  }
 },
 "nbformat": 4,
 "nbformat_minor": 5
}
