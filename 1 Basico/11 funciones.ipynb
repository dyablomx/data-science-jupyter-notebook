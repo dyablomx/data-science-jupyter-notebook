{
 "cells": [
  {
   "cell_type": "markdown",
   "id": "2599d863-5aa4-46a1-988b-a0a9ef03d85d",
   "metadata": {},
   "source": [
    "# Funciones"
   ]
  },
  {
   "cell_type": "markdown",
   "id": "0034f8a7-685a-4a28-9c1a-38b31bfd8315",
   "metadata": {},
   "source": [
    "## Pre fabricadas"
   ]
  },
  {
   "cell_type": "code",
   "execution_count": 6,
   "id": "61453bc4-1337-4be0-a42f-3d0027a4a0ff",
   "metadata": {},
   "outputs": [],
   "source": [
    "my_data = {'Nombre':'Oscar','Edad':30}"
   ]
  },
  {
   "cell_type": "code",
   "execution_count": 1,
   "id": "14cd0911-8974-470e-b9fa-2b66ac92742a",
   "metadata": {},
   "outputs": [],
   "source": [
    "countries =['United States','India','China','Brazil']"
   ]
  },
  {
   "cell_type": "code",
   "execution_count": 2,
   "id": "cd489c5c-b4fe-40ab-9863-e8fbfe95a44a",
   "metadata": {},
   "outputs": [
    {
     "data": {
      "text/plain": [
       "4"
      ]
     },
     "execution_count": 2,
     "metadata": {},
     "output_type": "execute_result"
    }
   ],
   "source": [
    "len(countries)"
   ]
  },
  {
   "cell_type": "code",
   "execution_count": 3,
   "id": "cdb7d369-a5b4-46b3-a364-5ec00b807e3e",
   "metadata": {},
   "outputs": [
    {
     "data": {
      "text/plain": [
       "87"
      ]
     },
     "execution_count": 3,
     "metadata": {},
     "output_type": "execute_result"
    }
   ],
   "source": [
    "max([18,1,4,84,5,2,87,23])"
   ]
  },
  {
   "cell_type": "code",
   "execution_count": 4,
   "id": "dada3def-da3b-4c09-bec7-18495a57cf60",
   "metadata": {},
   "outputs": [
    {
     "data": {
      "text/plain": [
       "1"
      ]
     },
     "execution_count": 4,
     "metadata": {},
     "output_type": "execute_result"
    }
   ],
   "source": [
    "min([18,1,4,84,5,2,87,23])"
   ]
  },
  {
   "cell_type": "code",
   "execution_count": 5,
   "id": "4808b417-9173-479f-87db-0e754a69dba6",
   "metadata": {},
   "outputs": [
    {
     "data": {
      "text/plain": [
       "list"
      ]
     },
     "execution_count": 5,
     "metadata": {},
     "output_type": "execute_result"
    }
   ],
   "source": [
    "type(countries)"
   ]
  },
  {
   "cell_type": "code",
   "execution_count": 7,
   "id": "ffd9cfc5-3df4-4299-9c4e-a1ae9d3584a2",
   "metadata": {},
   "outputs": [
    {
     "data": {
      "text/plain": [
       "dict"
      ]
     },
     "execution_count": 7,
     "metadata": {},
     "output_type": "execute_result"
    }
   ],
   "source": [
    "type(my_data)"
   ]
  },
  {
   "cell_type": "code",
   "execution_count": 9,
   "id": "943717a9-234b-4a9d-88b8-d8a23d4016d9",
   "metadata": {},
   "outputs": [
    {
     "data": {
      "text/plain": [
       "2.53"
      ]
     },
     "execution_count": 9,
     "metadata": {},
     "output_type": "execute_result"
    }
   ],
   "source": [
    "round(2.528, 2)"
   ]
  },
  {
   "cell_type": "code",
   "execution_count": 10,
   "id": "72b2e46c-865b-4b2b-ba17-8eff16cf0c2d",
   "metadata": {
    "scrolled": true
   },
   "outputs": [
    {
     "data": {
      "text/plain": [
       "range(1, 10, 2)"
      ]
     },
     "execution_count": 10,
     "metadata": {},
     "output_type": "execute_result"
    }
   ],
   "source": [
    "range(1, 10 , 2)"
   ]
  },
  {
   "cell_type": "code",
   "execution_count": 11,
   "id": "7b2a3aa2-7ae6-414e-a641-9e9defddbe9c",
   "metadata": {},
   "outputs": [
    {
     "name": "stdout",
     "output_type": "stream",
     "text": [
      "1\n",
      "3\n",
      "5\n",
      "7\n",
      "9\n"
     ]
    }
   ],
   "source": [
    "for i in range(1, 10, 2):\n",
    "    print(i)"
   ]
  },
  {
   "cell_type": "markdown",
   "id": "8a8f7351-7064-4f7d-8b50-9c22bd875f37",
   "metadata": {},
   "source": [
    "## Crear Funciones"
   ]
  },
  {
   "cell_type": "code",
   "execution_count": 12,
   "id": "0463b383-add6-44d7-a816-28253c4d94ca",
   "metadata": {},
   "outputs": [],
   "source": [
    "def sumar_numeros(a, b):\n",
    "    suma_final = a + b\n",
    "    return suma_final"
   ]
  },
  {
   "cell_type": "code",
   "execution_count": 18,
   "id": "62f3f3f2-e55f-4027-9e39-ba802b69f18f",
   "metadata": {},
   "outputs": [
    {
     "data": {
      "text/plain": [
       "23"
      ]
     },
     "execution_count": 18,
     "metadata": {},
     "output_type": "execute_result"
    }
   ],
   "source": [
    "sumar_numeros(18, 5)"
   ]
  }
 ],
 "metadata": {
  "kernelspec": {
   "display_name": "Python 3 (ipykernel)",
   "language": "python",
   "name": "python3"
  },
  "language_info": {
   "codemirror_mode": {
    "name": "ipython",
    "version": 3
   },
   "file_extension": ".py",
   "mimetype": "text/x-python",
   "name": "python",
   "nbconvert_exporter": "python",
   "pygments_lexer": "ipython3",
   "version": "3.11.3"
  }
 },
 "nbformat": 4,
 "nbformat_minor": 5
}
