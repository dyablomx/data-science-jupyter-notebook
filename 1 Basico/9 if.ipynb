{
 "cells": [
  {
   "cell_type": "markdown",
   "id": "3d81a9c5-80b5-4af9-8197-83d294985bfe",
   "metadata": {},
   "source": [
    "# Condicional IF"
   ]
  },
  {
   "cell_type": "code",
   "execution_count": 7,
   "id": "1c35cb75-4022-4f90-ba34-661ee2799d39",
   "metadata": {},
   "outputs": [
    {
     "name": "stdout",
     "output_type": "stream",
     "text": [
      "Aun eres un niño\n"
     ]
    }
   ],
   "source": [
    "edad = 12\n",
    "if edad >= 18:\n",
    "    print(\"Eres mayor de edad\")\n",
    "elif edad >= 13:\n",
    "    print(\"Eres un adolescente\")\n",
    "else:\n",
    "    print(\"Aun eres un niño\")"
   ]
  },
  {
   "cell_type": "code",
   "execution_count": 8,
   "id": "95b85e76-17be-4699-a1c7-32b2f805e407",
   "metadata": {},
   "outputs": [],
   "source": [
    "countries = ['United States','India','China','Brazil']"
   ]
  },
  {
   "cell_type": "code",
   "execution_count": 10,
   "id": "f0063de6-1d00-4325-a896-95d03fc35118",
   "metadata": {},
   "outputs": [
    {
     "name": "stdout",
     "output_type": "stream",
     "text": [
      "El pais esta dentro de la lista\n"
     ]
    }
   ],
   "source": [
    "if \"China\" in countries:\n",
    "    print(\"El pais esta dentro de la lista\")\n",
    "else:\n",
    "    print(\"El pais NO esta en la lista\")"
   ]
  }
 ],
 "metadata": {
  "kernelspec": {
   "display_name": "Python 3 (ipykernel)",
   "language": "python",
   "name": "python3"
  },
  "language_info": {
   "codemirror_mode": {
    "name": "ipython",
    "version": 3
   },
   "file_extension": ".py",
   "mimetype": "text/x-python",
   "name": "python",
   "nbconvert_exporter": "python",
   "pygments_lexer": "ipython3",
   "version": "3.11.3"
  }
 },
 "nbformat": 4,
 "nbformat_minor": 5
}
